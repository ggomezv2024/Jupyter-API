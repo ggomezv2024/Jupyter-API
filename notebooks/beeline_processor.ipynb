{
 "cells": [
  {
   "cell_type": "code",
   "metadata": { "tags": ["parameters"] },
   "source": [
    "PARAM_REQUEST_ID = \"\"\n",
    "PARAM_URL = \"\"\n",
    "PARAM_COMMENTS = \"\"\n",
    "PARAM_EMAIL = {}\n",
    "PARAM_OUT_DIR = \"./data/out\"\n"
   ],
   "outputs": [],
   "execution_count": null
  },
  {
   "cell_type": "code",
   "metadata": {},
   "source": [
    "from pathlib import Path\n",
    "import json, pandas as pd\n",
    "out_dir = Path(PARAM_OUT_DIR); out_dir.mkdir(parents=True, exist_ok=True)\n",
    "df = pd.DataFrame([{ \"request_id\": PARAM_REQUEST_ID, \"url\": PARAM_URL, \"comments\": PARAM_COMMENTS }])\n",
    "excel_path = out_dir / f\"beeline_{PARAM_REQUEST_ID}.xlsx\"\n",
    "df.to_excel(excel_path, index=False)\n",
    "summary = {\"excel_path\": str(excel_path), \"rows_written\": len(df)}\n",
    "(out_dir / f\"result_{PARAM_REQUEST_ID}.json\").write_text(json.dumps(summary, ensure_ascii=False, indent=2), encoding=\"utf-8\")\n",
    "print('OK', summary)\n"
   ],
   "outputs": [],
   "execution_count": null
  }
 ],
 "metadata": {
  "kernelspec": { "display_name": "Python 3", "language": "python", "name": "python3" },
  "language_info": { "name": "python", "version": "3.10" }
 },
 "nbformat": 4,
 "nbformat_minor": 5
}
